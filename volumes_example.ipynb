{
 "metadata": {
  "name": "",
  "signature": "sha256:e49ba982a2d51e62d7e2d2416e272488d333f77c8d14f92bd014940cd1817049"
 },
 "nbformat": 3,
 "nbformat_minor": 0,
 "worksheets": [
  {
   "cells": [
    {
     "cell_type": "markdown",
     "metadata": {},
     "source": [
      "# Exploring Volumetric data with VTK\n",
      "\n",
      "Based on [this example](http://www.vtk.org/Wiki/index.php?title=VTK/Examples/Cxx/Visualization/StreamLines)"
     ]
    },
    {
     "cell_type": "code",
     "collapsed": false,
     "input": [
      "import os\n",
      "os.chdir(\"D:/vtk_data/VTKData/Data\")\n",
      "#os.chdir(r\"C:\\Users\\Diego\\Programas\\vtk\\VTKData\\Data\")\n",
      "import vtk"
     ],
     "language": "python",
     "metadata": {},
     "outputs": [],
     "prompt_number": 9
    },
    {
     "cell_type": "code",
     "collapsed": false,
     "input": [
      "pl3d = vtk.vtkMultiBlockPLOT3DReader()\n",
      "\n",
      "xyx_file = \"combxyz.bin\"\n",
      "q_file = \"combq.bin\"\n",
      "pl3d.SetXYZFileName(xyx_file)\n",
      "pl3d.SetQFileName(q_file)\n",
      "pl3d.SetScalarFunctionNumber(100)\n",
      "pl3d.SetVectorFunctionNumber(202)\n",
      "pl3d.Update()"
     ],
     "language": "python",
     "metadata": {},
     "outputs": [],
     "prompt_number": 10
    },
    {
     "cell_type": "markdown",
     "metadata": {},
     "source": [
      "From the example code:\n",
      "\n",
      "Here we read data from a annular combustor. A combustor burns fuel\n",
      "and air in a gas turbine (e.g., a jet engine) and the hot gas\n",
      "eventually makes its way to the turbine section."
     ]
    },
    {
     "cell_type": "code",
     "collapsed": false,
     "input": [
      "blocks = pl3d.GetOutput()\n",
      "b0 = blocks.GetBlock(0)"
     ],
     "language": "python",
     "metadata": {},
     "outputs": [],
     "prompt_number": 11
    },
    {
     "cell_type": "markdown",
     "metadata": {},
     "source": [
      "Loot at what is inside the data set"
     ]
    },
    {
     "cell_type": "code",
     "collapsed": false,
     "input": [
      "# uncomment to get long output\n",
      "# print b0"
     ],
     "language": "python",
     "metadata": {},
     "outputs": [],
     "prompt_number": 12
    },
    {
     "cell_type": "markdown",
     "metadata": {},
     "source": [
      "Set up vtk environment"
     ]
    },
    {
     "cell_type": "code",
     "collapsed": false,
     "input": [
      "renderer = vtk.vtkRenderer()\n",
      "render_window = vtk.vtkRenderWindow()\n",
      "render_window.AddRenderer(renderer)\n",
      "interactor = vtk.vtkRenderWindowInteractor()\n",
      "interactor.SetInteractorStyle(vtk.vtkInteractorStyleTrackballCamera())\n",
      "render_window.SetInteractor(interactor)\n",
      "renderer.SetBackground(0.2,0.2,0.2)\n",
      "interactor.Initialize()\n",
      "render_window.Render()"
     ],
     "language": "python",
     "metadata": {},
     "outputs": [],
     "prompt_number": 13
    },
    {
     "cell_type": "markdown",
     "metadata": {},
     "source": [
      "Look at an outline of the data for context"
     ]
    },
    {
     "cell_type": "code",
     "collapsed": false,
     "input": [
      "outline = vtk.vtkStructuredGridOutlineFilter()\n",
      "outline.SetInputData(b0)\n",
      "outline_mapper = vtk.vtkPolyDataMapper()\n",
      "outline_mapper.SetInputConnection(outline.GetOutputPort())\n",
      "outline_actor = vtk.vtkActor()\n",
      "outline_actor.SetMapper(outline_mapper)\n",
      "outline_actor.GetProperty().SetColor(1,1,1)\n",
      "renderer.AddActor(outline_actor)\n",
      "renderer.ResetCamera()"
     ],
     "language": "python",
     "metadata": {},
     "outputs": [],
     "prompt_number": 14
    },
    {
     "cell_type": "code",
     "collapsed": false,
     "input": [
      "\n",
      "render_window.Render()\n",
      "interactor.Start()"
     ],
     "language": "python",
     "metadata": {},
     "outputs": [],
     "prompt_number": 15
    },
    {
     "cell_type": "markdown",
     "metadata": {},
     "source": [
      "## Scalars\n",
      "\n",
      "The data contains two scalar arrays and one vector array. We are going to start exploring the data set by looking at the first scalar array \"Density\". We will use several different methods to *look* at this data"
     ]
    },
    {
     "cell_type": "markdown",
     "metadata": {},
     "source": [
      "### Points"
     ]
    },
    {
     "cell_type": "code",
     "collapsed": false,
     "input": [
      "points = vtk.vtkVertexGlyphFilter()\n",
      "points.SetInputData(b0)\n",
      "scalars_mapper = vtk.vtkPolyDataMapper()\n",
      "scalars_actor = vtk.vtkActor()\n",
      "scalars_actor.SetMapper(scalars_mapper)\n",
      "scalars_mapper.SetInputConnection(points.GetOutputPort())"
     ],
     "language": "python",
     "metadata": {},
     "outputs": [],
     "prompt_number": 59
    },
    {
     "cell_type": "code",
     "collapsed": false,
     "input": [
      "scalars_mapper.SetScalarModeToUsePointData()\n",
      "#print scalars_mapper.GetLookupTable()"
     ],
     "language": "python",
     "metadata": {},
     "outputs": [],
     "prompt_number": 60
    },
    {
     "cell_type": "code",
     "collapsed": false,
     "input": [
      "renderer.AddActor(scalars_actor)\n",
      "render_window.Render()\n",
      "interactor.Start()\n",
      "renderer.RemoveActor(scalars_actor)\n",
      "render_window.Render()"
     ],
     "language": "python",
     "metadata": {},
     "outputs": [],
     "prompt_number": 61
    },
    {
     "cell_type": "markdown",
     "metadata": {},
     "source": [
      "![Points with scalar data](volume_screens/Captura.PNG)"
     ]
    },
    {
     "cell_type": "markdown",
     "metadata": {},
     "source": [
      "### Solid"
     ]
    },
    {
     "cell_type": "code",
     "collapsed": false,
     "input": [
      "poly = vtk.vtkGeometryFilter()\n",
      "poly.SetInputData(b0)\n",
      "#scalars_mapper = vtk.vtkPolyDataMapper()\n",
      "#scalars_actor = vtk.vtkActor()\n",
      "#scalars_actor.SetMapper(scalars_mapper)\n",
      "scalars_mapper.SetInputConnection(poly.GetOutputPort())"
     ],
     "language": "python",
     "metadata": {},
     "outputs": [],
     "prompt_number": 62
    },
    {
     "cell_type": "code",
     "collapsed": false,
     "input": [
      "renderer.AddActor(scalars_actor)\n",
      "render_window.Render()\n",
      "interactor.Start()\n",
      "renderer.RemoveActor(scalars_actor)\n",
      "render_window.Render()"
     ],
     "language": "python",
     "metadata": {},
     "outputs": [],
     "prompt_number": 63
    },
    {
     "cell_type": "markdown",
     "metadata": {},
     "source": [
      "![Solid with scalar data](volume_screens/Captura2.PNG)"
     ]
    },
    {
     "cell_type": "markdown",
     "metadata": {},
     "source": [
      "### Sample with plane"
     ]
    },
    {
     "cell_type": "code",
     "collapsed": false,
     "input": [
      "samples = vtk.vtkPlaneWidget()\n",
      "samples.SetResolution(24)\n",
      "samples.SetOrigin(2,-2,26)\n",
      "samples.SetPoint1(2, 2,26)\n",
      "samples.SetPoint2(2,-2,32)\n",
      "samples_pd = samples.GetPolyDataAlgorithm()\n",
      "samples.SetInteractor(interactor)\n",
      "samples.SetRepresentationToOutline()\n",
      "samples.On()"
     ],
     "language": "python",
     "metadata": {},
     "outputs": [],
     "prompt_number": 64
    },
    {
     "cell_type": "code",
     "collapsed": false,
     "input": [
      "probe = vtk.vtkProbeFilter()\n",
      "probe.SetSourceData(b0)\n",
      "probe.SetInputConnection(samples_pd.GetOutputPort())\n",
      "probed_mapper = vtk.vtkPolyDataMapper()\n",
      "probed_mapper.SetInputConnection(probe.GetOutputPort())\n",
      "probed_actor = vtk.vtkActor()\n",
      "probed_actor.SetMapper(probed_mapper)"
     ],
     "language": "python",
     "metadata": {},
     "outputs": [],
     "prompt_number": 65
    },
    {
     "cell_type": "code",
     "collapsed": false,
     "input": [
      "samples.On()\n",
      "renderer.AddActor(probed_actor)\n",
      "render_window.Render()\n",
      "interactor.Start()\n",
      "samples.Off()\n",
      "renderer.RemoveActor(probed_actor)"
     ],
     "language": "python",
     "metadata": {},
     "outputs": [],
     "prompt_number": 66
    },
    {
     "cell_type": "markdown",
     "metadata": {},
     "source": [
      "![Sampling with a plane](volume_screens/Captura3.PNG)"
     ]
    },
    {
     "cell_type": "markdown",
     "metadata": {},
     "source": [
      "### Iso-surfaces"
     ]
    },
    {
     "cell_type": "code",
     "collapsed": false,
     "input": [
      "min_s, max_s = b0.GetScalarRange()\n",
      "print min_s, max_s"
     ],
     "language": "python",
     "metadata": {},
     "outputs": [
      {
       "output_type": "stream",
       "stream": "stdout",
       "text": [
        "0.197813093662 0.710419237614\n"
       ]
      }
     ],
     "prompt_number": 67
    },
    {
     "cell_type": "code",
     "collapsed": false,
     "input": [
      "contours = vtk.vtkContourFilter()\n",
      "contours.SetInputData(b0)\n",
      "contours.GenerateValues(5, (min_s,max_s))\n",
      "contours_mapper = vtk.vtkPolyDataMapper()\n",
      "contours_mapper.SetInputConnection(contours.GetOutputPort())\n",
      "contours_actor = vtk.vtkActor()\n",
      "contours_actor.SetMapper(contours_mapper)\n"
     ],
     "language": "python",
     "metadata": {},
     "outputs": [],
     "prompt_number": 68
    },
    {
     "cell_type": "code",
     "collapsed": false,
     "input": [
      "renderer.AddActor(contours_actor)\n",
      "render_window.Render()\n",
      "interactor.Start()\n",
      "renderer.RemoveActor(contours_actor)\n",
      "render_window.Render()"
     ],
     "language": "python",
     "metadata": {},
     "outputs": [],
     "prompt_number": 69
    },
    {
     "cell_type": "markdown",
     "metadata": {},
     "source": [
      "![Iso-surfaces](volume_screens/Captura4.PNG)"
     ]
    },
    {
     "cell_type": "markdown",
     "metadata": {},
     "source": [
      "We will add some transparency to be able to look inside"
     ]
    },
    {
     "cell_type": "code",
     "collapsed": false,
     "input": [
      "contours_actor.GetProperty().SetOpacity(0.5)"
     ],
     "language": "python",
     "metadata": {},
     "outputs": [],
     "prompt_number": 70
    },
    {
     "cell_type": "code",
     "collapsed": false,
     "input": [
      "renderer.AddActor(contours_actor)\n",
      "render_window.Render()\n",
      "interactor.Start()\n",
      "renderer.RemoveActor(contours_actor)\n",
      "render_window.Render()"
     ],
     "language": "python",
     "metadata": {},
     "outputs": [],
     "prompt_number": 71
    },
    {
     "cell_type": "markdown",
     "metadata": {},
     "source": [
      "![Iso surfaces with opacity](volume_screens/Captura5.PNG)"
     ]
    },
    {
     "cell_type": "markdown",
     "metadata": {},
     "source": [
      "### Volume Rendering"
     ]
    },
    {
     "cell_type": "code",
     "collapsed": false,
     "input": [
      "volume_mapper =  vtk.vtkUnstructuredGridVolumeRayCastMapper()\n",
      "#volume_mapper = vtk.vtkProjectedTetrahedraMapper()\n",
      "#volume_mapper = vtk.vtkUnstructuredGridVolumeZSweepMapper()\n",
      "\n",
      "#volume_mapper.SetBlendModeToComposite()  # try others\n",
      "#volume_mapper.SetBlendModeToMinimumIntensity()\n",
      "tri_filter = vtk.vtkDataSetTriangleFilter()\n",
      "tri_filter.SetInputData(b0)\n",
      "volume_mapper.SetInputConnection(tri_filter.GetOutputPort())\n",
      "volume = vtk.vtkVolume()\n",
      "volume.SetMapper(volume_mapper)\n",
      "volume_property = volume.GetProperty()\n"
     ],
     "language": "python",
     "metadata": {},
     "outputs": [],
     "prompt_number": 72
    },
    {
     "cell_type": "code",
     "collapsed": false,
     "input": [
      "intensity = vtk.vtkPiecewiseFunction()\n",
      "intensity.AddPoint(min_s,0.1)\n",
      "intensity.AddPoint((max_s+min_s)/2.0,  1.0)\n",
      "intensity.AddPoint(max_s, 1.0)\n",
      "color = vtk.vtkColorTransferFunction()\n",
      "color.AddRGBPoint(min_s,0,1,0)\n",
      "color.AddRGBPoint(max_s,1,0,0)\n",
      "volume_property.SetScalarOpacity(intensity)\n",
      "volume_property.SetInterpolationTypeToLinear()\n",
      "volume_property.SetColor(color)\n",
      "volume_property.ShadeOff()\n",
      "volume.VisibilityOn()"
     ],
     "language": "python",
     "metadata": {},
     "outputs": [],
     "prompt_number": 73
    },
    {
     "cell_type": "code",
     "collapsed": false,
     "input": [
      "renderer.AddViewProp(volume)\n",
      "render_window.Render()\n",
      "interactor.Start()\n",
      "renderer.RemoveViewProp(volume)"
     ],
     "language": "python",
     "metadata": {},
     "outputs": [],
     "prompt_number": 74
    },
    {
     "cell_type": "markdown",
     "metadata": {},
     "source": [
      "![Volume rendering](volume_screens/Captura6.PNG)"
     ]
    },
    {
     "cell_type": "markdown",
     "metadata": {},
     "source": [
      "## Vectors\n",
      "\n",
      "Now we are going to explore the vector data inside the dataset. We will use two methods"
     ]
    },
    {
     "cell_type": "markdown",
     "metadata": {},
     "source": [
      "### Glyphs"
     ]
    },
    {
     "cell_type": "code",
     "collapsed": false,
     "input": [
      "arrow = vtk.vtkArrowSource()\n",
      "glyphs = vtk.vtkGlyph3D()\n",
      "glyphs.SetInputData(b0)\n",
      "glyphs.SetSourceConnection(arrow.GetOutputPort())"
     ],
     "language": "python",
     "metadata": {},
     "outputs": [],
     "prompt_number": 75
    },
    {
     "cell_type": "code",
     "collapsed": false,
     "input": [
      "glyph_mapper =  vtk.vtkPolyDataMapper()\n",
      "glyph_mapper.SetInputConnection(glyphs.GetOutputPort())\n",
      "glyph_actor = vtk.vtkActor()\n",
      "glyph_actor.SetMapper(glyph_mapper)"
     ],
     "language": "python",
     "metadata": {},
     "outputs": [],
     "prompt_number": 76
    },
    {
     "cell_type": "code",
     "collapsed": false,
     "input": [
      "glyphs.SetVectorModeToUseVector()\n",
      "glyphs.SetScaleModeToScaleByScalar()\n",
      "#glyphs.SetScaleModeToDataScalingOff()\n",
      "\n",
      "glyph_mapper.UseLookupTableScalarRangeOn()"
     ],
     "language": "python",
     "metadata": {},
     "outputs": [],
     "prompt_number": 77
    },
    {
     "cell_type": "code",
     "collapsed": false,
     "input": [
      "renderer.AddActor(glyph_actor)\n",
      "render_window.Render()\n",
      "interactor.Start()\n",
      "renderer.RemoveActor(glyph_actor)\n",
      "render_window.Render()"
     ],
     "language": "python",
     "metadata": {},
     "outputs": [],
     "prompt_number": 78
    },
    {
     "cell_type": "markdown",
     "metadata": {},
     "source": [
      "![Vectors as glyphs](volume_screens/Captura7.PNG)"
     ]
    },
    {
     "cell_type": "markdown",
     "metadata": {},
     "source": [
      "Now lets scale by the norm of the vectors"
     ]
    },
    {
     "cell_type": "code",
     "collapsed": false,
     "input": [
      "glyphs.SetScaleModeToScaleByVector()\n",
      "glyphs.SetScaleFactor(0.001)\n",
      "glyphs.SetColorModeToColorByVector()"
     ],
     "language": "python",
     "metadata": {},
     "outputs": [],
     "prompt_number": 79
    },
    {
     "cell_type": "code",
     "collapsed": false,
     "input": [
      "glyphs.Update()\n",
      "s0,sf = glyphs.GetOutput().GetScalarRange()\n",
      "lut = vtk.vtkColorTransferFunction()\n",
      "lut.AddRGBPoint(s0, 1,0,0)\n",
      "lut.AddRGBPoint(sf, 0,1,0)\n",
      "glyph_mapper.SetLookupTable(lut)"
     ],
     "language": "python",
     "metadata": {},
     "outputs": [],
     "prompt_number": 80
    },
    {
     "cell_type": "code",
     "collapsed": false,
     "input": [
      "renderer.AddActor(glyph_actor)\n",
      "render_window.Render()\n",
      "interactor.Start()\n",
      "renderer.RemoveActor(glyph_actor)\n",
      "render_window.Render()"
     ],
     "language": "python",
     "metadata": {},
     "outputs": [],
     "prompt_number": 81
    },
    {
     "cell_type": "markdown",
     "metadata": {},
     "source": [
      "![Scaled glyphs](volume_screens/Captura8.PNG)"
     ]
    },
    {
     "cell_type": "markdown",
     "metadata": {},
     "source": [
      "The above graph is very crowded, we can simplify it by showing a random sampleof vectors. We can now also make them bigger."
     ]
    },
    {
     "cell_type": "code",
     "collapsed": false,
     "input": [
      "mask = vtk.vtkMaskPoints()\n",
      "mask.SetInputData(b0)\n",
      "mask.GenerateVerticesOn()\n",
      "mask.SetMaximumNumberOfPoints(10000)\n",
      "mask.SetRandomModeType(1)\n",
      "mask.RandomModeOn()\n",
      "glyphs.SetInputConnection(mask.GetOutputPort())\n",
      "glyphs.SetScaleFactor(0.005)"
     ],
     "language": "python",
     "metadata": {},
     "outputs": [],
     "prompt_number": 82
    },
    {
     "cell_type": "code",
     "collapsed": false,
     "input": [
      "renderer.AddActor(glyph_actor)\n",
      "render_window.Render()\n",
      "interactor.Start()\n",
      "renderer.RemoveActor(glyph_actor)\n",
      "render_window.Render()"
     ],
     "language": "python",
     "metadata": {},
     "outputs": [],
     "prompt_number": 83
    },
    {
     "cell_type": "markdown",
     "metadata": {},
     "source": [
      "![Random subset of glyphs](volume_screens/Captura9.PNG)"
     ]
    },
    {
     "cell_type": "markdown",
     "metadata": {},
     "source": [
      "Here we risk loosing important features in the dataset. Another approach is showing only the vectors above a threshold"
     ]
    },
    {
     "cell_type": "code",
     "collapsed": false,
     "input": [
      "threshold = vtk.vtkThresholdPoints()\n",
      "threshold.SetInputData(b0)\n",
      "print b0.GetScalarRange()\n",
      "threshold.ThresholdByUpper(0.5)\n",
      "glyphs.SetInputConnection(threshold.GetOutputPort())"
     ],
     "language": "python",
     "metadata": {},
     "outputs": [
      {
       "output_type": "stream",
       "stream": "stdout",
       "text": [
        "(0.19781309366226196, 0.710419237613678)\n"
       ]
      }
     ],
     "prompt_number": 84
    },
    {
     "cell_type": "code",
     "collapsed": false,
     "input": [
      "renderer.AddActor(glyph_actor)\n",
      "render_window.Render()\n",
      "interactor.Start()\n",
      "renderer.RemoveActor(glyph_actor)\n",
      "render_window.Render()"
     ],
     "language": "python",
     "metadata": {},
     "outputs": [],
     "prompt_number": 85
    },
    {
     "cell_type": "markdown",
     "metadata": {},
     "source": [
      "![Filtered glyohs](volume_screens/Captura10.png)"
     ]
    },
    {
     "cell_type": "markdown",
     "metadata": {},
     "source": [
      "## Streamlines"
     ]
    },
    {
     "cell_type": "code",
     "collapsed": false,
     "input": [
      "seeds = vtk.vtkPlaneWidget()\n",
      "seeds.SetResolution(8)\n",
      "seeds.SetOrigin(2,-2,26)\n",
      "seeds.SetPoint1(2, 2,26)\n",
      "seeds.SetPoint2(2,-2,32)\n",
      "seeds_pd = seeds.GetPolyDataAlgorithm()\n",
      "seeds.SetInteractor(interactor)\n",
      "seeds.On()\n"
     ],
     "language": "python",
     "metadata": {},
     "outputs": [],
     "prompt_number": 86
    },
    {
     "cell_type": "code",
     "collapsed": false,
     "input": [
      "streamline = vtk.vtkStreamLine()\n",
      "streamline.SetInputData(pl3d.GetOutput().GetBlock(0))\n",
      "streamline.SetSourceConnection(seeds_pd.GetOutputPort())\n",
      "streamline.SetMaximumPropagationTime(200)\n",
      "streamline.SetIntegrationStepLength(.2)\n",
      "streamline.SetStepLength(0.001)\n",
      "streamline.SetNumberOfThreads(1)\n",
      "streamline.SetIntegrationDirectionToForward()\n",
      "streamline.VorticityOn()\n",
      "\n",
      "streamline_mapper = vtk.vtkPolyDataMapper()\n",
      "streamline_mapper.SetInputConnection(streamline.GetOutputPort())\n",
      "streamline_actor = vtk.vtkActor()\n",
      "streamline_actor.SetMapper(streamline_mapper)\n",
      "streamline_actor.VisibilityOn()\n"
     ],
     "language": "python",
     "metadata": {},
     "outputs": [],
     "prompt_number": 87
    },
    {
     "cell_type": "code",
     "collapsed": false,
     "input": [
      "renderer.AddActor(streamline_actor)\n",
      "seeds.On()\n",
      "render_window.Render()\n",
      "interactor.Start()\n",
      "renderer.RemoveActor(streamline_actor)\n",
      "render_window.Render()\n",
      "seeds.Off()"
     ],
     "language": "python",
     "metadata": {},
     "outputs": [],
     "prompt_number": 88
    },
    {
     "cell_type": "markdown",
     "metadata": {},
     "source": [
      "![Streamlines](volume_screens/Captura11.png)"
     ]
    },
    {
     "cell_type": "markdown",
     "metadata": {},
     "source": [
      "## Stream Tubes"
     ]
    },
    {
     "cell_type": "code",
     "collapsed": false,
     "input": [
      "tubes =vtk.vtkTubeFilter()\n",
      "tubes.SetInputConnection(streamline.GetOutputPort())\n",
      "tubes.SetRadius(0.1)\n",
      "tubes.SetNumberOfSides(8)\n",
      "tubes.SetVaryRadiusToVaryRadiusByScalar()\n",
      "tubes.SetRadiusFactor(3)\n",
      "\n",
      "tubes_mapper = vtk.vtkPolyDataMapper()\n",
      "tubes_mapper.SetInputConnection(tubes.GetOutputPort())\n",
      "tubes_actor = vtk.vtkActor()\n",
      "tubes_actor.SetMapper(tubes_mapper)\n"
     ],
     "language": "python",
     "metadata": {},
     "outputs": [],
     "prompt_number": 89
    },
    {
     "cell_type": "code",
     "collapsed": false,
     "input": [
      "renderer.AddActor(tubes_actor)\n",
      "seeds.On()\n",
      "render_window.Render()\n",
      "interactor.Start()\n",
      "renderer.RemoveActor(tubes_actor)\n",
      "render_window.Render()\n",
      "seeds.Off()"
     ],
     "language": "python",
     "metadata": {},
     "outputs": [],
     "prompt_number": 90
    },
    {
     "cell_type": "markdown",
     "metadata": {},
     "source": [
      "![Streamtubes](volume_screens/Captura12.png)"
     ]
    },
    {
     "cell_type": "markdown",
     "metadata": {},
     "source": [
      "## Next\n",
      "\n",
      "We have looked at several techniques one at a time. Now you could try mixing them up to show a complete visualization. Also up to now we have ignored the third scalar in the data..."
     ]
    },
    {
     "cell_type": "markdown",
     "metadata": {},
     "source": [
      "## Additional sources\n",
      "\n",
      "- http://www.vtk.org/Wiki/VTK/Examples/Cxx/Visualization/VectorField\n",
      "- http://www.bu.edu/tech/support/research/training-consulting/online-tutorials/vtk/\n",
      "- http://vis.computer.org/vis2004/dvd/tutorial/tut_5/notes_3.pdf"
     ]
    },
    {
     "cell_type": "code",
     "collapsed": false,
     "input": [],
     "language": "python",
     "metadata": {},
     "outputs": [],
     "prompt_number": 90
    }
   ],
   "metadata": {}
  }
 ]
}