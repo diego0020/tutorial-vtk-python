{
 "metadata": {
  "name": "",
  "signature": "sha256:8e7c7637ff405a50e82940f3d45b749696e0aac9df401fa2d83e6b492a16013e"
 },
 "nbformat": 3,
 "nbformat_minor": 0,
 "worksheets": [
  {
   "cells": [
    {
     "cell_type": "markdown",
     "metadata": {},
     "source": [
      "# VTK Python Example: Looking at satellite data\n",
      "\n",
      "For this example we are going to be looking at the data from the [SCIVIS Contest 2014](http://www.viscontest.rwth-aachen.de/data.html). All data can be downloaded from the following url:\n",
      "http://www.viscontest.rwth-aachen.de/download.html\n"
     ]
    },
    {
     "cell_type": "markdown",
     "metadata": {},
     "source": [
      "## 1: Loading the data\n",
      "\n",
      "All the data comes in vtk format, therefore it is straightforward to read it in vtk. "
     ]
    },
    {
     "cell_type": "code",
     "collapsed": false,
     "input": [
      "import os\n",
      "import vtk\n",
      "os.chdir(r\"D:\\viscontest\\viscontest14-data\\mipas\")\n",
      "reader = vtk.vtkPolyDataReader()\n",
      "reader.SetFileName(\"2011-MIPAS-VisContest.vtk\")\n",
      "reader.Update()\n",
      "mipas=reader.GetOutput()"
     ],
     "language": "python",
     "metadata": {},
     "outputs": [],
     "prompt_number": 1
    },
    {
     "cell_type": "markdown",
     "metadata": {},
     "source": [
      "This contains the data for several orbits of the satellite, we are going to extract just the first orbit to makes thing easier"
     ]
    },
    {
     "cell_type": "code",
     "collapsed": false,
     "input": [
      "c1 = mipas.GetCell(0)\n",
      "pids = c1.GetPointIds()\n",
      "nps = pids.GetNumberOfIds()\n",
      "# we are going to store the points in this new array\n",
      "points = vtk.vtkPoints()\n",
      "points.SetNumberOfPoints(nps)\n",
      "for i in xrange(nps):\n",
      "    pid = pids.GetId(i)\n",
      "    p = mipas.GetPoint(pid)\n",
      "    points.SetPoint(i,(p[0],p[1],20))  #  20 will be a fixed height for now\n",
      "\n",
      "# and we are going to encapsulate them in this polydata\n",
      "pd = vtk.vtkPolyData()\n",
      "pd.SetPoints(points)"
     ],
     "language": "python",
     "metadata": {},
     "outputs": [],
     "prompt_number": 2
    },
    {
     "cell_type": "markdown",
     "metadata": {},
     "source": [
      "Now lets create a filter to make it easier to visualize the points"
     ]
    },
    {
     "cell_type": "code",
     "collapsed": false,
     "input": [
      "vfilter = vtk.vtkVertexGlyphFilter()\n",
      "vfilter.SetInputData(pd)\n",
      "vfilter.Update()"
     ],
     "language": "python",
     "metadata": {},
     "outputs": [],
     "prompt_number": 3
    },
    {
     "cell_type": "markdown",
     "metadata": {},
     "source": [
      "Lets setup the vtk environment"
     ]
    },
    {
     "cell_type": "code",
     "collapsed": false,
     "input": [
      "ren_win = vtk.vtkRenderWindow()\n",
      "ren = vtk.vtkRenderer()\n",
      "iren = vtk.vtkRenderWindowInteractor()\n",
      "ren_win.SetInteractor(iren)\n",
      "ren_win.AddRenderer(ren)\n",
      "iren.SetInteractorStyle(vtk.vtkInteractorStyleTrackballCamera())\n",
      "ren.GradientBackgroundOn()\n",
      "ren.SetBackground2((0.5, 0.5, 0.5))\n",
      "ren.SetBackground((0.2, 0.2, 0.2))\n",
      "iren.Initialize()"
     ],
     "language": "python",
     "metadata": {},
     "outputs": [],
     "prompt_number": 4
    },
    {
     "cell_type": "markdown",
     "metadata": {},
     "source": [
      "Finally, lets add the points to the viewer"
     ]
    },
    {
     "cell_type": "code",
     "collapsed": false,
     "input": [
      "points_mapper = vtk.vtkPolyDataMapper()\n",
      "points_mapper.SetInputConnection(vfilter.GetOutputPort())\n",
      "points_ac = vtk.vtkActor()\n",
      "points_ac.SetMapper(points_mapper)\n",
      "\n",
      "#make points bigger\n",
      "p = points_ac.GetProperty()\n",
      "p.SetPointSize(2)\n",
      "ren.AddActor(points_ac)"
     ],
     "language": "python",
     "metadata": {},
     "outputs": [],
     "prompt_number": 5
    },
    {
     "cell_type": "markdown",
     "metadata": {},
     "source": [
      "The vtk window should now be open but frozen, with the following command we can make it interactive. To exit interactive mode, press q while having focus on the vtk window"
     ]
    },
    {
     "cell_type": "code",
     "collapsed": false,
     "input": [
      "iren.Start()\n",
      "#press q to stop interaction"
     ],
     "language": "python",
     "metadata": {},
     "outputs": [],
     "prompt_number": 6
    },
    {
     "cell_type": "markdown",
     "metadata": {},
     "source": [
      "You should see the following image in the 3d viewer\n",
      "\n",
      "<img src=\"vtk_example/screen1.PNG\">"
     ]
    },
    {
     "cell_type": "markdown",
     "metadata": {},
     "source": [
      "##2: Adding some context\n",
      "The above image is hard to interpret, lets add the map of the earth to make it easier to understand"
     ]
    },
    {
     "cell_type": "code",
     "collapsed": false,
     "input": [
      "os.chdir( r\"D:\\viscontest\\viscontest14-data\\support\")\n",
      "reader = vtk.vtkPolyDataReader()\n",
      "reader.SetFileName(\"coastlines.vtk\")\n",
      "reader.Update()\n",
      "cl = reader.GetOutput()\n",
      "cl_mapper = vtk.vtkPolyDataMapper()\n",
      "cl_mapper.SetInputData(cl)\n",
      "cl_actor = vtk.vtkActor()\n",
      "cl_actor.SetMapper(cl_mapper)\n",
      "ren.AddActor(cl_actor)\n",
      "ren_win.Render()"
     ],
     "language": "python",
     "metadata": {},
     "outputs": [],
     "prompt_number": 7
    },
    {
     "cell_type": "markdown",
     "metadata": {},
     "source": [
      "Notice in this case we don't need the vertex filter because the polydata is made of lines (instead of points). Now lets start the interactive window again"
     ]
    },
    {
     "cell_type": "code",
     "collapsed": false,
     "input": [
      "iren.Start()\n",
      "#remember: q to stop interaction"
     ],
     "language": "python",
     "metadata": {},
     "outputs": [],
     "prompt_number": 8
    },
    {
     "cell_type": "markdown",
     "metadata": {},
     "source": [
      "You should see the following image in the 3d viewer\n",
      "\n",
      "<img src=\"vtk_example/screen2.PNG\">"
     ]
    },
    {
     "cell_type": "markdown",
     "metadata": {},
     "source": [
      "# 3: Mapping the samples attitude\n",
      "\n",
      "Now we are going to map the attitude of the points over the map using the attitude data from the satellites. First lets look at this data"
     ]
    },
    {
     "cell_type": "code",
     "collapsed": false,
     "input": [
      "pdata = mipas.GetPointData()\n",
      "print pdata"
     ],
     "language": "python",
     "metadata": {},
     "outputs": [
      {
       "output_type": "stream",
       "stream": "stdout",
       "text": [
        "vtkPointData (000000000417BDD0)\n",
        "  Debug: Off\n",
        "  Modified Time: 215\n",
        "  Reference Count: 2\n",
        "  Registered Events: (none)\n",
        "  Number Of Arrays: 5\n",
        "  Array 0 name = time\n",
        "  Array 1 name = altitude\n",
        "  Array 2 name = orbit_id\n",
        "  Array 3 name = profile_id\n",
        "  Array 4 name = detection\n",
        "  Number Of Components: 5\n",
        "  Number Of Tuples: 1295837\n",
        "  Copy Tuple Flags: ( 1 1 1 1 1 0 1 1 )\n",
        "  Interpolate Flags: ( 1 1 1 1 1 0 0 1 )\n",
        "  Pass Through Flags: ( 1 1 1 1 1 1 1 1 )\n",
        "  Scalars: (none)\n",
        "  Vectors: (none)\n",
        "  Normals: (none)\n",
        "  TCoords: (none)\n",
        "  Tensors: (none)\n",
        "  GlobalIds: (none)\n",
        "  PedigreeIds: (none)\n",
        "  EdgeFlag: (none)\n",
        "\n",
        "\n"
       ]
      }
     ],
     "prompt_number": 9
    },
    {
     "cell_type": "markdown",
     "metadata": {},
     "source": [
      "We can see the altitude is stored in Array 1, now lets find its range"
     ]
    },
    {
     "cell_type": "code",
     "collapsed": false,
     "input": [
      "altitude = pdata.GetArray(1)\n",
      "print altitude.GetRange()"
     ],
     "language": "python",
     "metadata": {},
     "outputs": [
      {
       "output_type": "stream",
       "stream": "stdout",
       "text": [
        "(4.515999794006348, 30.0)\n"
       ]
      }
     ],
     "prompt_number": 10
    },
    {
     "cell_type": "markdown",
     "metadata": {},
     "source": [
      "In the above drawing we used a constant height of 20, so this range looks appropriate. Now lets recreate the points polydata using this new information"
     ]
    },
    {
     "cell_type": "code",
     "collapsed": false,
     "input": [
      "for i in xrange(nps):\n",
      "    pid = pids.GetId(i)\n",
      "    alt = altitude.GetValue(pid)\n",
      "    p = mipas.GetPoint(pid)\n",
      "    points.SetPoint(i,(p[0],p[1],alt))\n",
      "pd = vtk.vtkPolyData()\n",
      "pd.SetPoints(points)\n",
      "vfilter.SetInputData(pd)"
     ],
     "language": "python",
     "metadata": {},
     "outputs": [],
     "prompt_number": 11
    },
    {
     "cell_type": "markdown",
     "metadata": {},
     "source": [
      "And finally let start the viewer again in order to see the changes"
     ]
    },
    {
     "cell_type": "code",
     "collapsed": false,
     "input": [
      "ren_win.Render()\n",
      "iren.Start()\n",
      "# remember, q to stop"
     ],
     "language": "python",
     "metadata": {},
     "outputs": [],
     "prompt_number": 12
    },
    {
     "cell_type": "markdown",
     "metadata": {},
     "source": [
      "You should see the following image in the 3d viewer\n",
      "\n",
      "<img src=\"vtk_example/screen3.PNG\">"
     ]
    },
    {
     "cell_type": "markdown",
     "metadata": {},
     "source": [
      "## 4: Scalar data\n",
      "Now we are going to look at some other scalars included in the data. \n",
      "\n",
      "### 4.1: Time data\n",
      "Lets start by looking at the *time* to get a better feeling of the direction in which the satellite travels"
     ]
    },
    {
     "cell_type": "code",
     "collapsed": false,
     "input": [
      "# array to use inside our new polydata\n",
      "time_array = vtk.vtkFloatArray()\n",
      "time_array.SetNumberOfComponents(1)\n",
      "time_array.SetNumberOfTuples(nps)\n",
      "\n",
      "#original time array\n",
      "time_array_big = pdata.GetArray(0)\n",
      "\n",
      "for i in xrange(nps):\n",
      "    pid = pids.GetId(i)\n",
      "    t = time_array_big.GetValue(pid)\n",
      "    time_array.SetComponent(i,0,t)\n",
      "\n",
      "time_array.SetName(\"time\")\n",
      "pdata2 = pd.GetPointData()\n",
      "pdata2.SetScalars(time_array)\n",
      "print pd"
     ],
     "language": "python",
     "metadata": {},
     "outputs": [
      {
       "output_type": "stream",
       "stream": "stdout",
       "text": [
        "vtkPolyData (00000000042E57C0)\n",
        "  Debug: Off\n",
        "  Modified Time: 79460\n",
        "  Reference Count: 3\n",
        "  Registered Events: (none)\n",
        "  Information: 00000000042EB8E0\n",
        "  Data Released: False\n",
        "  Global Release Data: Off\n",
        "  UpdateTime: 79049\n",
        "  Field Data:\n",
        "    Debug: Off\n",
        "    Modified Time: 78913\n",
        "    Reference Count: 1\n",
        "    Registered Events: (none)\n",
        "    Number Of Arrays: 0\n",
        "    Number Of Components: 0\n",
        "    Number Of Tuples: 0\n",
        "  Number Of Points: 1326\n",
        "  Number Of Cells: 0\n",
        "  Cell Data:\n",
        "    Debug: Off\n",
        "    Modified Time: 78916\n",
        "    Reference Count: 1\n",
        "    Registered Events: (none)\n",
        "    Number Of Arrays: 0\n",
        "    Number Of Components: 0\n",
        "    Number Of Tuples: 0\n",
        "    Copy Tuple Flags: ( 1 1 1 1 1 0 1 1 )\n",
        "    Interpolate Flags: ( 1 1 1 1 1 0 0 1 )\n",
        "    Pass Through Flags: ( 1 1 1 1 1 1 1 1 )\n",
        "    Scalars: (none)\n",
        "    Vectors: (none)\n",
        "    Normals: (none)\n",
        "    TCoords: (none)\n",
        "    Tensors: (none)\n",
        "    GlobalIds: (none)\n",
        "    PedigreeIds: (none)\n",
        "    EdgeFlag: (none)\n",
        "  Point Data:\n",
        "    Debug: Off\n",
        "    Modified Time: 79460\n",
        "    Reference Count: 2\n",
        "    Registered Events: (none)\n",
        "    Number Of Arrays: 1\n",
        "    Array 0 name = time\n",
        "    Number Of Components: 1\n",
        "    Number Of Tuples: 1326\n",
        "    Copy Tuple Flags: ( 1 1 1 1 1 0 1 1 )\n",
        "    Interpolate Flags: ( 1 1 1 1 1 0 0 1 )\n",
        "    Pass Through Flags: ( 1 1 1 1 1 1 1 1 )\n",
        "    Scalars: \n",
        "      Debug: Off\n",
        "      Modified Time: 79457\n",
        "      Reference Count: 2\n",
        "      Registered Events: (none)\n",
        "      Name: time\n",
        "      Data type: float\n",
        "      Size: 1326\n",
        "      MaxId: 1325\n",
        "      NumberOfComponents: 1\n",
        "      Information: 0000000000000000\n",
        "      Name: time\n",
        "      Number Of Components: 1\n",
        "      Number Of Tuples: 1326\n",
        "      Size: 1326\n",
        "      MaxId: 1325\n",
        "      LookupTable: (none)\n",
        "      Array: 00000000042C28E0\n",
        "    Vectors: (none)\n",
        "    Normals: (none)\n",
        "    TCoords: (none)\n",
        "    Tensors: (none)\n",
        "    GlobalIds: (none)\n",
        "    PedigreeIds: (none)\n",
        "    EdgeFlag: (none)\n",
        "  Bounds: \n",
        "    Xmin,Xmax: (-148.527, 145.782)\n",
        "    Ymin,Ymax: (-87.2112, 89.4011)\n",
        "    Zmin,Zmax: (4.878, 29.963)\n",
        "  Compute Time: 79462\n",
        "  Number Of Points: 1326\n",
        "  Point Coordinates: 0000000002CB3560\n",
        "  Locator: 0000000000000000\n",
        "  Number Of Vertices: 0\n",
        "  Number Of Lines: 0\n",
        "  Number Of Polygons: 0\n",
        "  Number Of Triangle Strips: 0\n",
        "  Number Of Pieces: 1\n",
        "  Piece: 0\n",
        "  Ghost Level: 0\n",
        "\n",
        "\n"
       ]
      }
     ],
     "prompt_number": 13
    },
    {
     "cell_type": "markdown",
     "metadata": {},
     "source": [
      "We can see the time array is now located inside the point data. Now lets update the viewer and look at the changes"
     ]
    },
    {
     "cell_type": "code",
     "collapsed": false,
     "input": [
      "vfilter.SetInputData(pd)"
     ],
     "language": "python",
     "metadata": {},
     "outputs": [],
     "prompt_number": 14
    },
    {
     "cell_type": "code",
     "collapsed": false,
     "input": [
      "ren_win.Render()\n",
      "iren.Start()\n",
      "# remember, q to stop"
     ],
     "language": "python",
     "metadata": {},
     "outputs": [],
     "prompt_number": 15
    },
    {
     "cell_type": "markdown",
     "metadata": {},
     "source": [
      "You should see the following image in the 3d viewer\n",
      "\n",
      "<img src=\"vtk_example/screen4.PNG\">"
     ]
    },
    {
     "cell_type": "markdown",
     "metadata": {},
     "source": [
      "In order to look properly at scalar data we need a look up table. Lets create one"
     ]
    },
    {
     "cell_type": "code",
     "collapsed": false,
     "input": [
      "t0,tf = time_array.GetRange()\n",
      "lut = vtk.vtkColorTransferFunction()\n",
      "lut.AddRGBPoint(t0 ,0,1,0) # green\n",
      "lut.AddRGBPoint(tf ,1,0,0) # red\n",
      "points_mapper.SetLookupTable(lut)"
     ],
     "language": "python",
     "metadata": {},
     "outputs": [],
     "prompt_number": 16
    },
    {
     "cell_type": "markdown",
     "metadata": {},
     "source": [
      "And now lets look at the changes"
     ]
    },
    {
     "cell_type": "code",
     "collapsed": false,
     "input": [
      "ren_win.Render()\n",
      "iren.Start()\n",
      "# remember, q to stop"
     ],
     "language": "python",
     "metadata": {},
     "outputs": [],
     "prompt_number": 17
    },
    {
     "cell_type": "markdown",
     "metadata": {},
     "source": [
      "You should see the following image in the 3d viewer\n",
      "\n",
      "<img src=\"vtk_example/screen5.PNG\">"
     ]
    },
    {
     "cell_type": "markdown",
     "metadata": {},
     "source": [
      "### 4.2: Detection data\n",
      "\n",
      "Now lets look at the more interesting data about the detections of the satellite. From the [web page](http://www.viscontest.rwth-aachen.de/data.html) we see the posible values are as follows:\n",
      "\n",
      "0: A value of 0 designates a clear air measurement, i.e. the sample detected nothing. These measurements are included for providing context only, i.e. in order to show the satellite's track.  \n",
      "1: The least significant bit is used for ice detections.  \n",
      "2: The second bit stands for ash detections.  \n",
      "4: Finally, the third bit designates sulfate aerosol.  \n",
      "\n",
      "As before we start by loading the scalars"
     ]
    },
    {
     "cell_type": "code",
     "collapsed": false,
     "input": [
      "detection_array = vtk.vtkFloatArray()\n",
      "detection_array.SetNumberOfComponents(1)\n",
      "detection_array.SetNumberOfTuples(nps)\n",
      "detection_array_big = pdata.GetArray(4)\n",
      "\n",
      "for i in xrange(nps):\n",
      "    pid = pids.GetId(i)\n",
      "    d = detection_array_big.GetValue(pid)\n",
      "    detection_array.SetComponent(i,0,d)\n",
      "\n",
      "detection_array.SetName(\"detection\")\n",
      "pdata2 = pd.GetPointData()\n",
      "pdata2.SetScalars(detection_array)\n",
      "vfilter.SetInputData(pd)"
     ],
     "language": "python",
     "metadata": {},
     "outputs": [],
     "prompt_number": 18
    },
    {
     "cell_type": "markdown",
     "metadata": {},
     "source": [
      "Now lets create a more appropriate lookuptable"
     ]
    },
    {
     "cell_type": "code",
     "collapsed": false,
     "input": [
      "lut = vtk.vtkColorTransferFunction()\n",
      "lut.AddRGBPoint(0 ,0,0.2,0) # green\n",
      "lut.AddRGBPoint(1 ,0,0,0.9) # blue\n",
      "lut.AddRGBPoint(2 ,0,0.9,0.9) # cyan\n",
      "lut.AddRGBPoint(4 ,0.9,0,0) # red\n",
      "points_mapper.SetLookupTable(lut)\n",
      "points_mapper.UseLookupTableScalarRangeOn()"
     ],
     "language": "python",
     "metadata": {},
     "outputs": [],
     "prompt_number": 19
    },
    {
     "cell_type": "markdown",
     "metadata": {},
     "source": [
      "And now lets look at the changes"
     ]
    },
    {
     "cell_type": "code",
     "collapsed": false,
     "input": [
      "ren_win.Render()\n",
      "iren.Start()\n",
      "# remember, q to stop"
     ],
     "language": "python",
     "metadata": {},
     "outputs": [],
     "prompt_number": 20
    },
    {
     "cell_type": "markdown",
     "metadata": {},
     "source": [
      "You should see the following image in the 3d viewer\n",
      "\n",
      "<img src=\"vtk_example/screen6.PNG\">"
     ]
    },
    {
     "cell_type": "markdown",
     "metadata": {},
     "source": [
      "## 5: Multple orbits\n",
      "\n",
      "Now we are going to repeat what we did above for a random set of 20 orbits."
     ]
    },
    {
     "cell_type": "code",
     "collapsed": false,
     "input": [
      "import random\n",
      "norbits = mipas.GetNumberOfCells()\n",
      "sample = [random.randrange(0,norbits) for _ in xrange(20)]\n",
      "\n",
      "#remove original orbit\n",
      "ren.RemoveActor(points_ac)\n",
      "actors_dict = {}\n",
      "\n",
      "#We will reuse the lut from the last section\n",
      "lut = vtk.vtkColorTransferFunction()\n",
      "lut.AddRGBPoint(0 ,0,0.2,0) # green\n",
      "lut.AddRGBPoint(1 ,0,0,0.9) # blue\n",
      "lut.AddRGBPoint(2 ,0,0.9,0.9) # cyan\n",
      "lut.AddRGBPoint(4 ,0.9,0,0) # red\n",
      "\n",
      "for orb in sample:\n",
      "    c1 = mipas.GetCell(orb)\n",
      "    pids = c1.GetPointIds()\n",
      "    nps = pids.GetNumberOfIds()\n",
      "    points = vtk.vtkPoints()\n",
      "    points.SetNumberOfPoints(nps)\n",
      "    for i in xrange(nps):\n",
      "        pid = pids.GetId(i)\n",
      "        alt = altitude.GetValue(pid)\n",
      "        p = mipas.GetPoint(pid)\n",
      "        points.SetPoint(i,(p[0],p[1],alt))\n",
      "    \n",
      "    pd = vtk.vtkPolyData()\n",
      "    pd.SetPoints(points)\n",
      "    detection_array = vtk.vtkFloatArray()\n",
      "    detection_array.SetNumberOfComponents(1)\n",
      "    detection_array.SetNumberOfTuples(nps)\n",
      "\n",
      "    for i in xrange(nps):\n",
      "        pid = pids.GetId(i)\n",
      "        d = detection_array_big.GetValue(pid)\n",
      "        detection_array.SetComponent(i,0,d)\n",
      "\n",
      "    detection_array.SetName(\"detection\")\n",
      "    pdata2 = pd.GetPointData()\n",
      "    pdata2.SetScalars(detection_array)\n",
      "\n",
      "    vfilter = vtk.vtkVertexGlyphFilter()\n",
      "    vfilter.SetInputData(pd)\n",
      "    #add points to viewer\n",
      "    points_mapper = vtk.vtkPolyDataMapper()\n",
      "    points_mapper.SetInputConnection(vfilter.GetOutputPort())\n",
      "    points_mapper.SetLookupTable(lut)\n",
      "    # to keep the mapper from adjusting the range of the lut\n",
      "    points_mapper.UseLookupTableScalarRangeOn()\n",
      "    points_ac = vtk.vtkActor()\n",
      "    points_ac.SetMapper(points_mapper)\n",
      "\n",
      "    #make points bigger\n",
      "    p = points_ac.GetProperty()\n",
      "    p.SetPointSize(2)\n",
      "    ren.AddActor(points_ac)\n",
      "    actors_dict[points_ac] = orb\n"
     ],
     "language": "python",
     "metadata": {},
     "outputs": [],
     "prompt_number": 21
    },
    {
     "cell_type": "markdown",
     "metadata": {},
     "source": [
      "When showing multiple datasets it is important that the lookuptables for all of them matches. Here we are looking at 20 orbits with altitude and detection scalars. Lets look at the results"
     ]
    },
    {
     "cell_type": "code",
     "collapsed": false,
     "input": [
      "ren_win.Render()\n",
      "iren.Start()\n",
      "# remember, q to stop"
     ],
     "language": "python",
     "metadata": {},
     "outputs": [],
     "prompt_number": 22
    },
    {
     "cell_type": "markdown",
     "metadata": {},
     "source": [
      "You should see the following image in the 3d viewer\n",
      "\n",
      "<img src=\"vtk_example/screen7.PNG\">"
     ]
    },
    {
     "cell_type": "markdown",
     "metadata": {},
     "source": [
      "## 6: Some interaction\n",
      "\n",
      "It is easy to get lost when there is so much data in the screen. Lets add some interaction in order to help fix this. We are going to make a small example by adding tooltips when you hover the mouse over an orbit."
     ]
    },
    {
     "cell_type": "code",
     "collapsed": false,
     "input": [
      "balloon = vtk.vtkBalloonWidget()\n",
      "balloon.SetInteractor(iren)\n",
      "balloon.On()\n",
      "for ac,orb in actors_dict.iteritems():\n",
      "    message = \"orbit number: %d\"%orb\n",
      "    balloon.AddBalloon(ac,message)"
     ],
     "language": "python",
     "metadata": {},
     "outputs": [],
     "prompt_number": 23
    },
    {
     "cell_type": "markdown",
     "metadata": {},
     "source": [
      "Lets test this, after starting the interaction leave the mouse over one of the points."
     ]
    },
    {
     "cell_type": "code",
     "collapsed": false,
     "input": [
      "ren_win.Render()\n",
      "iren.Start()\n",
      "# remember, q to stop"
     ],
     "language": "python",
     "metadata": {},
     "outputs": [],
     "prompt_number": 24
    },
    {
     "cell_type": "markdown",
     "metadata": {},
     "source": [
      "You should see the following image in the 3d viewer\n",
      "\n",
      "<img src=\"vtk_example/screen8.PNG\">"
     ]
    },
    {
     "cell_type": "markdown",
     "metadata": {},
     "source": [
      "## 7: What's next?\n",
      "\n",
      "We have seen the basics of vtk. What follows is a list of possible improvements to the visualization you could try:\n",
      "\n",
      "- Add more complete messages to the tooltips\n",
      "- Show time and detection information at the same time\n",
      "- You can use [vtkGlyph3D](http://www.vtk.org/doc/nightly/html/classvtkGlyph3D.html) insted of GlyphFilter to get more complex representations for the points\n",
      "- You could embed the application inside a GUI (GTK, QT, TK) and add controls for all the operations\n",
      "- You could map the data to a sphere\n",
      "- You could filter the data and only show certain times or data with detections\n",
      "- You could add the rest of the data from the contest\n",
      "\n",
      "Feel free to try any other ideas you have. VTK is a very flexible and powerful platform. The documentation can be found [here](http://www.vtk.org/doc/nightly/html/index.html); and the [wiki](http://www.vtk.org/Wiki/VTK/Examples) contains several useful examples"
     ]
    },
    {
     "cell_type": "code",
     "collapsed": false,
     "input": [],
     "language": "python",
     "metadata": {},
     "outputs": [],
     "prompt_number": 24
    }
   ],
   "metadata": {}
  }
 ]
}